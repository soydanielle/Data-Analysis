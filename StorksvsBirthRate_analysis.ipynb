{
 "cells": [
  {
   "cell_type": "code",
   "execution_count": 1,
   "id": "f41e3e54-a5d0-4dbb-a6dd-dd5d95600342",
   "metadata": {},
   "outputs": [],
   "source": [
    "import pandas as pd\n",
    "import numpy as np\n",
    "import matplotlib.pyplot as plt\n",
    "from sklearn.linear_model import LinearRegression\n",
    "from sklearn.metrics import mean_squared_error\n",
    "from sklearn.preprocessing import StandardScaler\n",
    "import scipy.stats as stats\n",
    "from sklearn.utils import resample\n",
    "\n",
    "%matplotlib inline"
   ]
  },
  {
   "cell_type": "markdown",
   "id": "7edd5671-852d-42e2-bd2d-c7e1165f9ce9",
   "metadata": {},
   "source": [
    "Statistics for Data Science and AI**\n",
    "\n",
    "*by: Danielle Souza Da Silva*"
   ]
  },
  {
   "cell_type": "markdown",
   "id": "9176fc49-4179-4fff-b7fc-3fe8182f02bc",
   "metadata": {},
   "source": [
    "### **Table of Contents:**\n",
    "\n",
    "* Section 1: Introduction\n",
    "\n",
    "* Section 2: Analysis 1\n",
    "\n",
    "    * Section 2.1: Implementing Regression Model A\n",
    "    \n",
    "    * Section 2.2: Implementing Regression Model B\n",
    "    \n",
    "    * Section 2.3: Using Bootstrap technique to estimate the distribution of the difference in the R2 parameter and CI intervals\n",
    "    \n",
    "* Section 3: Analysis 2\n",
    "\n",
    "    * Section 3.1: Implementing Regression Model C\n",
    "    \n",
    "    * Section 3.2: Implementing Regression Model D\n",
    "    \n",
    "    * Section 3.3: Using Bootstrap technique to estimate the distribution of the difference in the RMSE parameter and CI intervals"
   ]
  },
  {
   "cell_type": "markdown",
   "id": "8a6f167a-ace7-4725-8323-621354d3aaac",
   "metadata": {},
   "source": [
    "### **Section 1: Introduction:**\n",
    "\n",
    "In this notebook I will be implementing four regression models, using the bootstrap technique and confidence intervals to perform additional analysis of the storks data. \n",
    "\n",
    "In the first analysis, two regression models will be implemented where the birth rate is the target variable. Model A has the number of storks as the predictor and Model B has the population size as the predictor. The objective of this analysis is to compare the two regression models and to explain the variability of the number of births. \n",
    "\n",
    "In the second analysis, two regression models will also be implemented where number of stork pairs is the target variable. Model C will have the land area per $km^2$ as the predictor, and Model D will have two predictors, the population density and the suitable land area. This part will allow us to compare the performance of the two models and to make a prediction on the number of stork pairs based on the chosen predictor variables. "
   ]
  },
  {
   "cell_type": "markdown",
   "id": "332251b9-51ed-4944-93ed-0f79fe3c8de7",
   "metadata": {},
   "source": [
    "### **Section 2: Analysis 1**\n",
    "\n",
    "In this section, I have implemented the two regression models A and B and used the bootstrap technique to estimate the distribution of the difference in the R2 coefficient of determination parameter of the two models."
   ]
  },
  {
   "cell_type": "markdown",
   "id": "91d9c22b-480d-4715-8162-03c9e99b36a1",
   "metadata": {},
   "source": [
    "**Loading data frame**"
   ]
  },
  {
   "cell_type": "code",
   "execution_count": 2,
   "id": "cbb5c4d4-9a23-4746-b2d4-2fb640994fc7",
   "metadata": {},
   "outputs": [
    {
     "data": {
      "text/html": [
       "<div>\n",
       "<style scoped>\n",
       "    .dataframe tbody tr th:only-of-type {\n",
       "        vertical-align: middle;\n",
       "    }\n",
       "\n",
       "    .dataframe tbody tr th {\n",
       "        vertical-align: top;\n",
       "    }\n",
       "\n",
       "    .dataframe thead th {\n",
       "        text-align: right;\n",
       "    }\n",
       "</style>\n",
       "<table border=\"1\" class=\"dataframe\">\n",
       "  <thead>\n",
       "    <tr style=\"text-align: right;\">\n",
       "      <th></th>\n",
       "      <th>Country</th>\n",
       "      <th>Area</th>\n",
       "      <th>Storks</th>\n",
       "      <th>Humans</th>\n",
       "      <th>BirthRate</th>\n",
       "      <th>SuitableAreaPercent</th>\n",
       "    </tr>\n",
       "  </thead>\n",
       "  <tbody>\n",
       "    <tr>\n",
       "      <th>0</th>\n",
       "      <td>Albania</td>\n",
       "      <td>28750</td>\n",
       "      <td>100</td>\n",
       "      <td>3.2</td>\n",
       "      <td>83</td>\n",
       "      <td>55.68</td>\n",
       "    </tr>\n",
       "    <tr>\n",
       "      <th>1</th>\n",
       "      <td>Austria</td>\n",
       "      <td>83860</td>\n",
       "      <td>300</td>\n",
       "      <td>7.6</td>\n",
       "      <td>87</td>\n",
       "      <td>38.34</td>\n",
       "    </tr>\n",
       "    <tr>\n",
       "      <th>2</th>\n",
       "      <td>Belgium</td>\n",
       "      <td>30520</td>\n",
       "      <td>1</td>\n",
       "      <td>9.9</td>\n",
       "      <td>118</td>\n",
       "      <td>65.93</td>\n",
       "    </tr>\n",
       "    <tr>\n",
       "      <th>3</th>\n",
       "      <td>Bulgaria</td>\n",
       "      <td>111000</td>\n",
       "      <td>5000</td>\n",
       "      <td>9.0</td>\n",
       "      <td>117</td>\n",
       "      <td>57.99</td>\n",
       "    </tr>\n",
       "    <tr>\n",
       "      <th>4</th>\n",
       "      <td>Denmark</td>\n",
       "      <td>43100</td>\n",
       "      <td>9</td>\n",
       "      <td>5.1</td>\n",
       "      <td>59</td>\n",
       "      <td>81.46</td>\n",
       "    </tr>\n",
       "    <tr>\n",
       "      <th>5</th>\n",
       "      <td>France</td>\n",
       "      <td>544000</td>\n",
       "      <td>140</td>\n",
       "      <td>56.0</td>\n",
       "      <td>774</td>\n",
       "      <td>58.47</td>\n",
       "    </tr>\n",
       "    <tr>\n",
       "      <th>6</th>\n",
       "      <td>Germany</td>\n",
       "      <td>357000</td>\n",
       "      <td>3300</td>\n",
       "      <td>78.0</td>\n",
       "      <td>901</td>\n",
       "      <td>59.81</td>\n",
       "    </tr>\n",
       "    <tr>\n",
       "      <th>7</th>\n",
       "      <td>Greece</td>\n",
       "      <td>132000</td>\n",
       "      <td>2500</td>\n",
       "      <td>10.0</td>\n",
       "      <td>106</td>\n",
       "      <td>47.31</td>\n",
       "    </tr>\n",
       "    <tr>\n",
       "      <th>8</th>\n",
       "      <td>Holland</td>\n",
       "      <td>41900</td>\n",
       "      <td>4</td>\n",
       "      <td>15.0</td>\n",
       "      <td>188</td>\n",
       "      <td>70.96</td>\n",
       "    </tr>\n",
       "    <tr>\n",
       "      <th>9</th>\n",
       "      <td>Hungary</td>\n",
       "      <td>93000</td>\n",
       "      <td>5000</td>\n",
       "      <td>11.0</td>\n",
       "      <td>124</td>\n",
       "      <td>75.86</td>\n",
       "    </tr>\n",
       "    <tr>\n",
       "      <th>10</th>\n",
       "      <td>Italy</td>\n",
       "      <td>301280</td>\n",
       "      <td>5</td>\n",
       "      <td>57.0</td>\n",
       "      <td>551</td>\n",
       "      <td>60.30</td>\n",
       "    </tr>\n",
       "    <tr>\n",
       "      <th>11</th>\n",
       "      <td>Poland</td>\n",
       "      <td>312680</td>\n",
       "      <td>30000</td>\n",
       "      <td>38.0</td>\n",
       "      <td>610</td>\n",
       "      <td>64.09</td>\n",
       "    </tr>\n",
       "    <tr>\n",
       "      <th>12</th>\n",
       "      <td>Portugal</td>\n",
       "      <td>92390</td>\n",
       "      <td>1500</td>\n",
       "      <td>10.0</td>\n",
       "      <td>120</td>\n",
       "      <td>52.51</td>\n",
       "    </tr>\n",
       "    <tr>\n",
       "      <th>13</th>\n",
       "      <td>Romania</td>\n",
       "      <td>237500</td>\n",
       "      <td>5000</td>\n",
       "      <td>23.0</td>\n",
       "      <td>367</td>\n",
       "      <td>62.49</td>\n",
       "    </tr>\n",
       "    <tr>\n",
       "      <th>14</th>\n",
       "      <td>Spain</td>\n",
       "      <td>504750</td>\n",
       "      <td>8000</td>\n",
       "      <td>39.0</td>\n",
       "      <td>439</td>\n",
       "      <td>59.57</td>\n",
       "    </tr>\n",
       "    <tr>\n",
       "      <th>15</th>\n",
       "      <td>Switzerland</td>\n",
       "      <td>41290</td>\n",
       "      <td>150</td>\n",
       "      <td>6.7</td>\n",
       "      <td>82</td>\n",
       "      <td>43.19</td>\n",
       "    </tr>\n",
       "    <tr>\n",
       "      <th>16</th>\n",
       "      <td>Turkey</td>\n",
       "      <td>779450</td>\n",
       "      <td>25000</td>\n",
       "      <td>56.0</td>\n",
       "      <td>1576</td>\n",
       "      <td>65.97</td>\n",
       "    </tr>\n",
       "  </tbody>\n",
       "</table>\n",
       "</div>"
      ],
      "text/plain": [
       "        Country    Area  Storks  Humans  BirthRate  SuitableAreaPercent\n",
       "0       Albania   28750     100     3.2         83                55.68\n",
       "1       Austria   83860     300     7.6         87                38.34\n",
       "2       Belgium   30520       1     9.9        118                65.93\n",
       "3      Bulgaria  111000    5000     9.0        117                57.99\n",
       "4       Denmark   43100       9     5.1         59                81.46\n",
       "5        France  544000     140    56.0        774                58.47\n",
       "6       Germany  357000    3300    78.0        901                59.81\n",
       "7        Greece  132000    2500    10.0        106                47.31\n",
       "8       Holland   41900       4    15.0        188                70.96\n",
       "9       Hungary   93000    5000    11.0        124                75.86\n",
       "10        Italy  301280       5    57.0        551                60.30\n",
       "11       Poland  312680   30000    38.0        610                64.09\n",
       "12     Portugal   92390    1500    10.0        120                52.51\n",
       "13      Romania  237500    5000    23.0        367                62.49\n",
       "14        Spain  504750    8000    39.0        439                59.57\n",
       "15  Switzerland   41290     150     6.7         82                43.19\n",
       "16       Turkey  779450   25000    56.0       1576                65.97"
      ]
     },
     "execution_count": 2,
     "metadata": {},
     "output_type": "execute_result"
    }
   ],
   "source": [
    "df = pd.read_csv('storks.csv') # Loading csv file\n",
    "df"
   ]
  },
  {
   "cell_type": "markdown",
   "id": "5f35b14b-7d05-4494-ad3c-3c431120e921",
   "metadata": {},
   "source": [
    "### **Section 2.1: Implementing Regression Model A**\n",
    "\n",
    "Regression Model A has the birth rate as the target variable and the stork pair number as the predictor."
   ]
  },
  {
   "cell_type": "markdown",
   "id": "6b276884-0649-459e-b6d9-32f7f7d26019",
   "metadata": {},
   "source": [
    "\n",
    "Here, I have labeled the variable y as the target variable and X as the predictor variable."
   ]
  },
  {
   "cell_type": "code",
   "execution_count": 3,
   "id": "2e168f38-8c57-4d94-8953-9c2775a916d0",
   "metadata": {},
   "outputs": [],
   "source": [
    "y = df.BirthRate # this is the target variable\n",
    "X = np.column_stack((df.Storks)).T # predictor variable"
   ]
  },
  {
   "cell_type": "markdown",
   "id": "7a389311-11d4-4b29-82d9-62c7c4fa304b",
   "metadata": {},
   "source": [
    "**Comments Regression Model A Results:**\n",
    "\n",
    "For the stork pair number, the coefficient of determination R2 has value 0.385. This implies that the number of stork pairs explains around 39% of variability for the number of births. \n",
    "\n",
    "The intercept is 225, which implies that when the number of storks is zero the birth rate per year is predicted to be 225.\n",
    "\n",
    "The stork regression coefficient is 0.029 which implies that as the number of storks increases the predicted birth rate also increases by this factor plus the intercept. "
   ]
  },
  {
   "cell_type": "code",
   "execution_count": 4,
   "id": "85989b82-7f20-4412-b3f8-30d06120be0a",
   "metadata": {},
   "outputs": [
    {
     "name": "stdout",
     "output_type": "stream",
     "text": [
      "The R2 coefficient of determination is 0.385\n",
      "The intercept is 225.0\n",
      "The Stork regression coefficient is: [0.02879364]\n"
     ]
    }
   ],
   "source": [
    "reg_S = LinearRegression().fit(X, y)\n",
    "beta_Storks = reg_S.coef_\n",
    "print('The R2 coefficient of determination is %4.3f' % reg_S.score(X, y))\n",
    "print('The intercept is %4.1f' % reg_S.intercept_)\n",
    "print('The Stork regression coefficient is:', reg_S.coef_)"
   ]
  },
  {
   "cell_type": "markdown",
   "id": "e7289dd2-88e9-4d55-adfd-4e48f21a22ca",
   "metadata": {},
   "source": [
    "**Model A: Regression Scatter Plot**\n",
    "\n",
    "Below, we can observe the relationship between predicted vs actual birth rate results on the scatter plot. The graph shows that as the actual value increases so does the predicted value for birth rate. "
   ]
  },
  {
   "cell_type": "code",
   "execution_count": 5,
   "id": "4c048c8a-784f-4f3f-a44a-a488b4b01a10",
   "metadata": {},
   "outputs": [
    {
     "data": {
      "text/plain": [
       "Text(0.5, 1.0, 'Predicted vs Actual Birth Rate Per Year')"
      ]
     },
     "execution_count": 5,
     "metadata": {},
     "output_type": "execute_result"
    },
    {
     "data": {
      "image/png": "[encoded data removed]",
      "text/plain": [
       "<Figure size 576x432 with 1 Axes>"
      ]
     },
     "metadata": {
      "needs_background": "light"
     },
     "output_type": "display_data"
    }
   ],
   "source": [
    "y_hat_1 = reg_S.predict(X)\n",
    "fig, a = plt.subplots(1,1,figsize=(8,6))\n",
    "a.scatter(y_hat_1, y,  color='black')\n",
    "a.plot(y_hat_1, y_hat_1, color='blue', linewidth=2)\n",
    "\n",
    "a.set_xlabel('Birth Rate Predicted Value')\n",
    "a.set_ylabel('Birth Rate Actual Value')\n",
    "a.set_title('Predicted vs Actual Birth Rate Per Year')"
   ]
  },
  {
   "cell_type": "markdown",
   "id": "ffa767ad-092b-42b4-943d-5f9b0b8ee51e",
   "metadata": {},
   "source": [
    "**Residual Error Distribution for Model A**\n",
    "\n",
    "Below, I have plotted the residual error distribution for this model. As we can see below, the error distribution is not normal. We can see that there are some outliers in the distribution. As the error distribution is not normal, this may imply that the error is not consistent across our model. "
   ]
  },
  {
   "cell_type": "code",
   "execution_count": 6,
   "id": "19dfe031-cbcb-421c-b406-2e9f271b1df1",
   "metadata": {},
   "outputs": [
    {
     "data": {
      "image/png": "[encoded data removed]",
      "text/plain": [
       "<Figure size 432x288 with 1 Axes>"
      ]
     },
     "metadata": {
      "needs_background": "light"
     },
     "output_type": "display_data"
    }
   ],
   "source": [
    "y_hat_1 = reg_S.predict(X)\n",
    "\n",
    "fig, a1 = plt.subplots(1, 1)\n",
    "residuals = y_hat_1 - y\n",
    "a1.hist(residuals,density=True)\n",
    "a1.set_title('Error Distribution')\n",
    "_ = a1.set_xlabel('Error in Prediction')"
   ]
  },
  {
   "cell_type": "markdown",
   "id": "c8520702-2783-40c7-87ac-7c6a328ebb43",
   "metadata": {},
   "source": [
    "### **Section 2.2: Implementing Regression Model B**\n",
    "\n",
    "In this section, we are also using the target variable as the birth rate. The predictor variable is the Population size from the data frame. The population size are scaled on the data frame, i.e. in the $10^6$ Humans, however since this would not affect our regression results I have opted to not re-scale the population size to its actual value.\n",
    "\n",
    "Below, I have set the predictor variable as X2."
   ]
  },
  {
   "cell_type": "code",
   "execution_count": 7,
   "id": "e6be73cc-9c71-4ad9-a0a2-5bf453a02d44",
   "metadata": {},
   "outputs": [],
   "source": [
    "X2 = np.column_stack((df.Humans)).T # Predictor X2 = humans from data frame"
   ]
  },
  {
   "cell_type": "markdown",
   "id": "7f0c7a2e-0184-4830-9d82-93228f26ad77",
   "metadata": {},
   "source": [
    "**Comments Regression Model B Results:**\n",
    "\n",
    "The R2 coefficient of determination tells us that the population size explains about 73% of the variability of the birth rate values. This indicates how significant this predictor variable is for the prediction of the birth rate results.\n",
    "\n",
    "The intercept for the model is -8.4.\n",
    "\n",
    "The Population size regression coefficient is 14.8 (to 2 decimal places), this indicates that the model has a positive slope. Therefore, as the population size increases so does the predicted birth rate. We should also note that the population size has a bigger weight as the coefficient, if we compare it to the storks coefficient which is 0.029, meaning that the population size may have a bigger impact than the stork numbers."
   ]
  },
  {
   "cell_type": "code",
   "execution_count": 8,
   "id": "dfdd6755-0d5b-4597-9b93-6a429af149db",
   "metadata": {},
   "outputs": [
    {
     "name": "stdout",
     "output_type": "stream",
     "text": [
      "The R2 coefficient of determination is 0.725\n",
      "The intercept is -8.4\n",
      "The Population size regression coefficient is: [14.83444462]\n"
     ]
    }
   ],
   "source": [
    "reg_H = LinearRegression().fit(X2, y)\n",
    "beta_BirthRate = reg_H.coef_\n",
    "print('The R2 coefficient of determination is %4.3f' % reg_H.score(X2, y))\n",
    "print('The intercept is %4.1f' % reg_H.intercept_)\n",
    "print('The Population size regression coefficient is:', reg_H.coef_)"
   ]
  },
  {
   "cell_type": "markdown",
   "id": "e2f91ee4-723a-4a9e-95d9-c4c6fc6cfa8f",
   "metadata": {},
   "source": [
    "**Model B: Regression Scatter Plot**\n",
    "\n",
    "Below, we can see the relationship between the actual vs predicted birth rate values having the population size as its predictor. Compared to the model A regression scatter plot, it is clear that the population size has a better fit than the number of Storks meaning that it may be a better predictor. "
   ]
  },
  {
   "cell_type": "code",
   "execution_count": 9,
   "id": "1bdea95e-afe3-4a58-ba3a-c252ec749068",
   "metadata": {},
   "outputs": [
    {
     "data": {
      "text/plain": [
       "Text(0.5, 1.0, 'Predicted vs Actual Birth Rate Per Year')"
      ]
     },
     "execution_count": 9,
     "metadata": {},
     "output_type": "execute_result"
    },
    {
     "data": {
      "image/png": "[encoded data removed]",
      "text/plain": [
       "<Figure size 576x432 with 1 Axes>"
      ]
     },
     "metadata": {
      "needs_background": "light"
     },
     "output_type": "display_data"
    }
   ],
   "source": [
    "y_hat_2 = reg_H.predict(X2)\n",
    "fig, a = plt.subplots(1,1,figsize=(8,6))\n",
    "a.scatter(y_hat_2, y,  color='black')\n",
    "a.plot(y_hat_2, y_hat_2, color='blue', linewidth=2)\n",
    "\n",
    "a.set_xlabel('Birth Rate Predicted Value')\n",
    "a.set_ylabel('Birth Rate Actual Value')\n",
    "a.set_title('Predicted vs Actual Birth Rate Per Year')"
   ]
  },
  {
   "cell_type": "markdown",
   "id": "48e41934-9c2c-4999-b9e5-84c2d9a56a4b",
   "metadata": {},
   "source": [
    "**Residual Error Distribution for Model B**\n",
    "\n",
    "As with model A, the residual error distribution for model B is not normally distributed as seen on the histogram below and also contains outliers. This means that the error rate is not consistent across our model. "
   ]
  },
  {
   "cell_type": "code",
   "execution_count": 10,
   "id": "d3a5f3da-e587-4b50-97af-8de096aa9179",
   "metadata": {},
   "outputs": [
    {
     "data": {
      "image/png": "[encoded data removed]",
      "text/plain": [
       "<Figure size 432x288 with 1 Axes>"
      ]
     },
     "metadata": {
      "needs_background": "light"
     },
     "output_type": "display_data"
    }
   ],
   "source": [
    "y_hat_2 = reg_H.predict(X2)\n",
    "\n",
    "fig, a1 = plt.subplots(1, 1)\n",
    "residuals = y_hat_2 - y\n",
    "a1.hist(residuals, density=True)\n",
    "a1.set_title('Error Distribution')\n",
    "_ = a1.set_xlabel('Error in Prediction')"
   ]
  },
  {
   "cell_type": "markdown",
   "id": "17dd165b-c11c-48fa-8898-38dd7d1d98e8",
   "metadata": {},
   "source": [
    "### **Section 2.3: Using Bootstrap technique to estimate the distribution of the difference in the R2 parameter and CI intervals**\n",
    "\n",
    "In this section, I have used the bootstrap technique to resample the storks data 500 times."
   ]
  },
  {
   "cell_type": "markdown",
   "id": "88d247cd-01f1-4cf9-a679-cee0c24ae897",
   "metadata": {},
   "source": [
    "Here, I have used the Bootstrap function that was implemented in the lab's notebook."
   ]
  },
  {
   "cell_type": "code",
   "execution_count": 11,
   "id": "2a7caddf-7dd9-4b0c-8ace-100df4620598",
   "metadata": {},
   "outputs": [],
   "source": [
    "def bootstrapC(data, cols, repeats, func):\n",
    "    result = pd.DataFrame(data = dict([(c, np.empty(repeats)) for c in cols]))\n",
    "    \n",
    "    for i in range(0, repeats):\n",
    "        result.iloc[i] = func(resample(data)) # default is to resample, same size\n",
    "    return result"
   ]
  },
  {
   "cell_type": "markdown",
   "id": "1c191ff8-460b-4215-b83e-a236251edeb0",
   "metadata": {},
   "source": [
    "The regression function below returns the regression values such as the intercept, the beta coefficients and the R2 values for each model. "
   ]
  },
  {
   "cell_type": "code",
   "execution_count": 12,
   "id": "33e674a5-0dff-4b4e-8ed8-e0108ee191e0",
   "metadata": {},
   "outputs": [],
   "source": [
    "def doRegression(df) :\n",
    "    y = df.BirthRate # this is the target variable\n",
    "    X1 = np.column_stack(df.Storks).T # Predictor for Model A\n",
    "    X2 = np.column_stack(df.Humans).T # Predictor for Model B\n",
    "    reg1 = LinearRegression().fit(X1, y)\n",
    "    reg2 = LinearRegression().fit(X2, y)\n",
    "    beta_Storks = reg1.coef_[0]\n",
    "    beta_Humans = reg2.coef_[0]\n",
    "    return [reg1.intercept_, reg2.intercept_, beta_Storks, beta_Humans, reg1.score(X1, y), reg2.score(X2,y)] "
   ]
  },
  {
   "cell_type": "markdown",
   "id": "4ab46caa-35f6-4d3a-a8aa-d0230b893574",
   "metadata": {},
   "source": [
    "Here, I have calculated the difference between the two R2 coefficients of determination from the two models A and B after the data was resampled using the bootstrap method.\n",
    "\n",
    "The difference was calculated as follows:\n",
    "\n",
    "R2_Difference = R2_Model_B - R2_Model_A"
   ]
  },
  {
   "cell_type": "code",
   "execution_count": 13,
   "id": "0d339794-02ba-4254-b125-71a67eef4d91",
   "metadata": {},
   "outputs": [
    {
     "data": {
      "text/html": [
       "<div>\n",
       "<style scoped>\n",
       "    .dataframe tbody tr th:only-of-type {\n",
       "        vertical-align: middle;\n",
       "    }\n",
       "\n",
       "    .dataframe tbody tr th {\n",
       "        vertical-align: top;\n",
       "    }\n",
       "\n",
       "    .dataframe thead th {\n",
       "        text-align: right;\n",
       "    }\n",
       "</style>\n",
       "<table border=\"1\" class=\"dataframe\">\n",
       "  <thead>\n",
       "    <tr style=\"text-align: right;\">\n",
       "      <th></th>\n",
       "      <th>Intercept_Storks</th>\n",
       "      <th>Intercept_Humans</th>\n",
       "      <th>BetaStorks</th>\n",
       "      <th>BetaHumans</th>\n",
       "      <th>R2_Storks</th>\n",
       "      <th>R2_Humans</th>\n",
       "      <th>R2_Diff</th>\n",
       "    </tr>\n",
       "  </thead>\n",
       "  <tbody>\n",
       "    <tr>\n",
       "      <th>0</th>\n",
       "      <td>96.068902</td>\n",
       "      <td>-113.272774</td>\n",
       "      <td>0.033804</td>\n",
       "      <td>20.613458</td>\n",
       "      <td>0.639772</td>\n",
       "      <td>0.765085</td>\n",
       "      <td>0.125313</td>\n",
       "    </tr>\n",
       "    <tr>\n",
       "      <th>1</th>\n",
       "      <td>280.838201</td>\n",
       "      <td>-38.100575</td>\n",
       "      <td>0.032558</td>\n",
       "      <td>15.908313</td>\n",
       "      <td>0.487034</td>\n",
       "      <td>0.591192</td>\n",
       "      <td>0.104157</td>\n",
       "    </tr>\n",
       "    <tr>\n",
       "      <th>2</th>\n",
       "      <td>175.793328</td>\n",
       "      <td>-110.377473</td>\n",
       "      <td>0.051407</td>\n",
       "      <td>20.182464</td>\n",
       "      <td>0.786693</td>\n",
       "      <td>0.772153</td>\n",
       "      <td>-0.014540</td>\n",
       "    </tr>\n",
       "    <tr>\n",
       "      <th>3</th>\n",
       "      <td>170.604208</td>\n",
       "      <td>-122.335691</td>\n",
       "      <td>0.034526</td>\n",
       "      <td>23.001768</td>\n",
       "      <td>0.536304</td>\n",
       "      <td>0.780539</td>\n",
       "      <td>0.244236</td>\n",
       "    </tr>\n",
       "    <tr>\n",
       "      <th>4</th>\n",
       "      <td>300.334842</td>\n",
       "      <td>24.132215</td>\n",
       "      <td>0.011279</td>\n",
       "      <td>10.638147</td>\n",
       "      <td>0.079585</td>\n",
       "      <td>0.956797</td>\n",
       "      <td>0.877211</td>\n",
       "    </tr>\n",
       "    <tr>\n",
       "      <th>...</th>\n",
       "      <td>...</td>\n",
       "      <td>...</td>\n",
       "      <td>...</td>\n",
       "      <td>...</td>\n",
       "      <td>...</td>\n",
       "      <td>...</td>\n",
       "      <td>...</td>\n",
       "    </tr>\n",
       "    <tr>\n",
       "      <th>495</th>\n",
       "      <td>167.433854</td>\n",
       "      <td>13.103030</td>\n",
       "      <td>0.025806</td>\n",
       "      <td>11.508833</td>\n",
       "      <td>0.076637</td>\n",
       "      <td>0.940824</td>\n",
       "      <td>0.864187</td>\n",
       "    </tr>\n",
       "    <tr>\n",
       "      <th>496</th>\n",
       "      <td>250.374457</td>\n",
       "      <td>39.557758</td>\n",
       "      <td>0.011621</td>\n",
       "      <td>10.027243</td>\n",
       "      <td>0.250522</td>\n",
       "      <td>0.889743</td>\n",
       "      <td>0.639221</td>\n",
       "    </tr>\n",
       "    <tr>\n",
       "      <th>497</th>\n",
       "      <td>294.460646</td>\n",
       "      <td>-2.999524</td>\n",
       "      <td>0.024665</td>\n",
       "      <td>14.697492</td>\n",
       "      <td>0.251762</td>\n",
       "      <td>0.759329</td>\n",
       "      <td>0.507567</td>\n",
       "    </tr>\n",
       "    <tr>\n",
       "      <th>498</th>\n",
       "      <td>171.306200</td>\n",
       "      <td>-10.522622</td>\n",
       "      <td>0.054300</td>\n",
       "      <td>17.755662</td>\n",
       "      <td>0.734349</td>\n",
       "      <td>0.689817</td>\n",
       "      <td>-0.044532</td>\n",
       "    </tr>\n",
       "    <tr>\n",
       "      <th>499</th>\n",
       "      <td>76.822596</td>\n",
       "      <td>-198.982822</td>\n",
       "      <td>0.041826</td>\n",
       "      <td>28.558934</td>\n",
       "      <td>0.670089</td>\n",
       "      <td>0.905689</td>\n",
       "      <td>0.235600</td>\n",
       "    </tr>\n",
       "  </tbody>\n",
       "</table>\n",
       "<p>500 rows × 7 columns</p>\n",
       "</div>"
      ],
      "text/plain": [
       "     Intercept_Storks  Intercept_Humans  BetaStorks  BetaHumans  R2_Storks  \\\n",
       "0           96.068902       -113.272774    0.033804   20.613458   0.639772   \n",
       "1          280.838201        -38.100575    0.032558   15.908313   0.487034   \n",
       "2          175.793328       -110.377473    0.051407   20.182464   0.786693   \n",
       "3          170.604208       -122.335691    0.034526   23.001768   0.536304   \n",
       "4          300.334842         24.132215    0.011279   10.638147   0.079585   \n",
       "..                ...               ...         ...         ...        ...   \n",
       "495        167.433854         13.103030    0.025806   11.508833   0.076637   \n",
       "496        250.374457         39.557758    0.011621   10.027243   0.250522   \n",
       "497        294.460646         -2.999524    0.024665   14.697492   0.251762   \n",
       "498        171.306200        -10.522622    0.054300   17.755662   0.734349   \n",
       "499         76.822596       -198.982822    0.041826   28.558934   0.670089   \n",
       "\n",
       "     R2_Humans   R2_Diff  \n",
       "0     0.765085  0.125313  \n",
       "1     0.591192  0.104157  \n",
       "2     0.772153 -0.014540  \n",
       "3     0.780539  0.244236  \n",
       "4     0.956797  0.877211  \n",
       "..         ...       ...  \n",
       "495   0.940824  0.864187  \n",
       "496   0.889743  0.639221  \n",
       "497   0.759329  0.507567  \n",
       "498   0.689817 -0.044532  \n",
       "499   0.905689  0.235600  \n",
       "\n",
       "[500 rows x 7 columns]"
      ]
     },
     "execution_count": 13,
     "metadata": {},
     "output_type": "execute_result"
    }
   ],
   "source": [
    "bstrap = bootstrapC(df, ['Intercept_Storks', 'Intercept_Humans', 'BetaStorks', 'BetaHumans', 'R2_Storks', 'R2_Humans'], 500, doRegression) \n",
    "bstrap['R2_Diff'] = bstrap['R2_Humans'] - bstrap['R2_Storks']\n",
    "bstrap"
   ]
  },
  {
   "cell_type": "markdown",
   "id": "a5bdce68-7143-44e6-979b-2178559d4234",
   "metadata": {},
   "source": [
    "**Distribution of the difference between the R2 parameter for model A and B**\n",
    "\n",
    "Below, we can observe the distribution for the difference in the R2 coefficient between model A and B. As the histogram shows, the distribution is bimodal and it is mostly positive. These findings may imply that as the differences are mostly positive, the population size variable explains the variability of the birth rate better than the number of stork pairs. "
   ]
  },
  {
   "cell_type": "code",
   "execution_count": 14,
   "id": "9b16a065-7d95-44c6-ac32-7c58b5f11bdf",
   "metadata": {},
   "outputs": [
    {
     "data": {
      "image/png": "[encoded data removed]",
      "text/plain": [
       "<Figure size 576x504 with 1 Axes>"
      ]
     },
     "metadata": {
      "needs_background": "light"
     },
     "output_type": "display_data"
    }
   ],
   "source": [
    "_ = bstrap.hist('R2_Diff',figsize=(8,7))"
   ]
  },
  {
   "cell_type": "markdown",
   "id": "271a3143-bee2-4d28-973a-81446e1aabc6",
   "metadata": {},
   "source": [
    "**Confidence Interval for the difference in the R2 values**\n",
    "\n",
    "The confidence interval for the difference in the R2 values with a 90% confidence level is from -0.06 to 0.93. The interval indicates that there is a 90% confidence that the difference between the two R2 values will be within this interval. Since the interval has mainly positive numbers (i.e from 0 to 0.93), we can be confident that the R2 value for the population size will be higher than the R2 value for the stork pair numbers, which means that the population size explains more variability in the birth rate data than the number of storks."
   ]
  },
  {
   "cell_type": "code",
   "execution_count": 15,
   "id": "3a37a9c3-1a3e-4d24-b7a6-74cad2e3ad56",
   "metadata": {},
   "outputs": [
    {
     "name": "stdout",
     "output_type": "stream",
     "text": [
      "The difference of the R2 coefficient of determination of Humans and Storks has 90% CI from -0.07 to 0.93\n"
     ]
    }
   ],
   "source": [
    "reg1_intercept, reg2_intercept, beta_Storks, beta_Humans, reg1_Storks, reg2_Humans = doRegression(df)\n",
    "\n",
    "print(\"The difference of the R2 coefficient of determination of Humans and Storks has 90%% CI from %3.2f to %3.2f\" % \n",
    "      (bstrap.R2_Diff.quantile(0.05), bstrap.R2_Diff.quantile(0.95)))"
   ]
  },
  {
   "cell_type": "markdown",
   "id": "9d0eb297-d8c6-47a5-bc6d-174c9973331e",
   "metadata": {},
   "source": [
    "### **Section 3: Analysis 2**"
   ]
  },
  {
   "cell_type": "markdown",
   "id": "b32cb8a0-f168-492e-a173-1c258aa1d05a",
   "metadata": {},
   "source": [
    "**Data preparation:**\n",
    "\n",
    "In this section, I have prepared the data frame by calculating the population density and suitable area per $km^2$ values.\n",
    "\n",
    "Below, these calculation are performed:\n",
    "\n",
    "*Population Density = Population Size / Area per $km^2$*\n",
    "\n",
    "*Suitable Area = (Area * Suitable Area Percent)/100*"
   ]
  },
  {
   "cell_type": "code",
   "execution_count": 16,
   "id": "cfdc900e-18b5-4f3b-8991-b3f29ba787e8",
   "metadata": {},
   "outputs": [],
   "source": [
    "df['PopulationDensity'] = df['Humans']/df['Area']\n",
    "df['SuitableArea'] = (df['Area']*df['SuitableAreaPercent'])/100"
   ]
  },
  {
   "cell_type": "markdown",
   "id": "2292089a-5ffb-4b31-80a3-3e35c4f8a46c",
   "metadata": {},
   "source": [
    "### **Section 3.1: Implementing Regression Model C**\n",
    "\n",
    "In this section, we will be implementing the regression model C, which has as target variable the number of storks and as its predictor variable the Area per $km^2$.\n",
    "\n",
    "Below, the target variable is labeled y, and the predictor variable is labeled X3."
   ]
  },
  {
   "cell_type": "code",
   "execution_count": 17,
   "id": "6b33bc35-d0eb-4759-a70a-8e10405da637",
   "metadata": {},
   "outputs": [],
   "source": [
    "y = df.Storks # this is the target variable\n",
    "X3 = np.column_stack((df.Area)).T"
   ]
  },
  {
   "cell_type": "markdown",
   "id": "f35bc3be-f09b-4edc-81c6-5273aa6a9f80",
   "metadata": {},
   "source": [
    "**Regression Results Comments:**\n",
    "\n",
    "The Area R2 parameter is 0.34 which means that the Area explains about 34% of the variability of the stork pair numbers.\n",
    "\n",
    "The regression coefficient is 0.0233 (to 4 decimal places), this implies that as the area increases so does the predicted stork pair numbers. "
   ]
  },
  {
   "cell_type": "code",
   "execution_count": 18,
   "id": "e72be33b-c961-40a1-9fba-a6d5a987857c",
   "metadata": {},
   "outputs": [
    {
     "name": "stdout",
     "output_type": "stream",
     "text": [
      "The R2 coefficient of determination is 0.336\n",
      "The intercept is -60.7\n",
      "The Area per square km regression coefficient is: [0.02330737]\n"
     ]
    }
   ],
   "source": [
    "reg_A = LinearRegression().fit(X3, y)\n",
    "beta_Area = reg_A.coef_\n",
    "\n",
    "print('The R2 coefficient of determination is %4.3f' % reg_A.score(X3, y))\n",
    "print('The intercept is %4.1f' % reg_A.intercept_)\n",
    "print('The Area per square km regression coefficient is:', reg_A.coef_)"
   ]
  },
  {
   "cell_type": "markdown",
   "id": "00555e58-9109-4d62-909e-e2f79858d011",
   "metadata": {},
   "source": [
    "**Model C: Regression Scatter Plot**\n",
    "\n",
    "Below, we can see the scatter plot for the actual vs predictor numbers of storks. We can observe that the slope is positive, as the actual number of storks increases its predicted value also increases. "
   ]
  },
  {
   "cell_type": "code",
   "execution_count": 19,
   "id": "550968f5-32a5-490e-9d16-329d78e388e0",
   "metadata": {},
   "outputs": [
    {
     "data": {
      "text/plain": [
       "Text(0.5, 1.0, 'Predicted vs Actual Birth Rate Per Year')"
      ]
     },
     "execution_count": 19,
     "metadata": {},
     "output_type": "execute_result"
    },
    {
     "data": {
      "image/png": "[encoded data removed]",
      "text/plain": [
       "<Figure size 576x432 with 1 Axes>"
      ]
     },
     "metadata": {
      "needs_background": "light"
     },
     "output_type": "display_data"
    }
   ],
   "source": [
    "y_hat_A = reg_A.predict(X3)\n",
    "fig, a = plt.subplots(1,1,figsize=(8,6))\n",
    "a.scatter(y_hat_A, y,  color='black')\n",
    "a.plot(y_hat_A, y_hat_A, color='blue', linewidth=2)\n",
    "\n",
    "a.set_xlabel('Birth Rate Predicted Value')\n",
    "a.set_ylabel('Birth Rate Actual Value')\n",
    "a.set_title('Predicted vs Actual Birth Rate Per Year')"
   ]
  },
  {
   "cell_type": "markdown",
   "id": "33b28e46-6c3f-4894-aee6-539d0ade5fbc",
   "metadata": {},
   "source": [
    "**Residual Error Distribution for Model C**\n",
    "\n",
    "As seen below, the error distribution for model C shows a close to normal distribution, as with the previous models it has outliers."
   ]
  },
  {
   "cell_type": "code",
   "execution_count": 20,
   "id": "57746047-fae8-485a-94d3-dc56901a9d90",
   "metadata": {},
   "outputs": [
    {
     "data": {
      "image/png": "[encoded data removed]",
      "text/plain": [
       "<Figure size 432x288 with 1 Axes>"
      ]
     },
     "metadata": {
      "needs_background": "light"
     },
     "output_type": "display_data"
    }
   ],
   "source": [
    "y_hat_A = reg_A.predict(X3)\n",
    "\n",
    "fig, a1 = plt.subplots(1, 1)\n",
    "residuals = y_hat_A - y\n",
    "a1.hist(residuals, density=True)\n",
    "a1.set_title('Error Distribution')\n",
    "_ = a1.set_xlabel('Error in Prediction')"
   ]
  },
  {
   "cell_type": "markdown",
   "id": "b0317bc4-f24f-402d-b85a-eef2ae025055",
   "metadata": {},
   "source": [
    "### **Section 3.1: Implementing Regression Model D**\n",
    "\n",
    "In this section, we will be implementing the regression model D, which has as target variable the number of storks and as its predictor variables the  Suitable Area per $km^2$ and Population density.\n",
    "\n",
    "Below, the target variable is labeled y, and the predictor variable is labeled X4 which included both predictor variables."
   ]
  },
  {
   "cell_type": "code",
   "execution_count": 21,
   "id": "77da97e3-fac1-4c8a-bd1a-56c03d6dde75",
   "metadata": {},
   "outputs": [],
   "source": [
    "X4 = np.column_stack((df.SuitableArea, df.PopulationDensity))"
   ]
  },
  {
   "cell_type": "markdown",
   "id": "c020e296-2ac4-45bb-9d35-851e0f3c1df5",
   "metadata": {},
   "source": [
    "**Variables Matrix Heat Map:**\n",
    "\n",
    "Below, I have implemented a heat map to display the correlation between the predictor variables. As we can see, the correlation between Suitable Area and Population density is 0.28 which is not strong. This shows that these variables do not have a strong linear relationship which helps the goodness of fit in our model."
   ]
  },
  {
   "cell_type": "code",
   "execution_count": 22,
   "id": "e1642af2-2536-47ca-88aa-2d1573413f02",
   "metadata": {},
   "outputs": [
    {
     "data": {
      "text/plain": [
       "<AxesSubplot:>"
      ]
     },
     "execution_count": 22,
     "metadata": {},
     "output_type": "execute_result"
    },
    {
     "data": {
      "image/png": "[encoded data removed]",
      "text/plain": [
       "<Figure size 432x360 with 2 Axes>"
      ]
     },
     "metadata": {
      "needs_background": "light"
     },
     "output_type": "display_data"
    }
   ],
   "source": [
    "import seaborn as sns \n",
    "fig,ax = plt.subplots(1,1, figsize=(6,5))\n",
    "sns.heatmap(df.corr(), vmin=-1, vmax=1, cmap=sns.diverging_palette(20, 220, as_cmap=True), \n",
    "            annot=True, ax=ax, annot_kws={\"size\": 15})"
   ]
  },
  {
   "cell_type": "markdown",
   "id": "99b37dcb-c863-47ac-bdf7-2c6b4f35196e",
   "metadata": {},
   "source": [
    "**Regression Results Comments:**\n",
    "\n",
    "The R2 coefficient is 0.393 which implies that about 39% of the Suitable Area and Population density data explains the number of storks.\n",
    "\n",
    "The regression coefficient for the Suitable Area is 0.037 (to 3 decimal places) and for the population density it's around -12132597. By comparing the two coefficients, we can conclude that the population density has a bigger impact on the model since its coefficient has a much larger number. "
   ]
  },
  {
   "cell_type": "code",
   "execution_count": 23,
   "id": "3e5251cb-eea1-489e-ba5b-184c2d0d9786",
   "metadata": {},
   "outputs": [
    {
     "name": "stdout",
     "output_type": "stream",
     "text": [
      "The R2 coefficient of determination is 0.393\n",
      "The intercept is 1881.4\n",
      "The Suitable Area regression coefficient is: 0.036706576927433635\n",
      "The Population Density regression coefficient is: -12132597.88804482\n"
     ]
    }
   ],
   "source": [
    "reg_B = LinearRegression().fit(X4, y)\n",
    "beta_SuitableArea, beta_Pop = reg_B.coef_\n",
    "print('The R2 coefficient of determination is %4.3f' % reg_B.score(X4, y))\n",
    "print('The intercept is %4.1f' % reg_B.intercept_)\n",
    "print('The Suitable Area regression coefficient is:', beta_SuitableArea)\n",
    "print('The Population Density regression coefficient is:', beta_Pop)"
   ]
  },
  {
   "cell_type": "markdown",
   "id": "e5fc4c02-fe47-402c-b7f2-0b2fd9a4c500",
   "metadata": {},
   "source": [
    "**Model D: Regression Scatter Plot**\n",
    "\n",
    "Below, we can see the scatter plot showing the relationship between the actual and predicted stork values. It shows that as the actual values increase so does the predicted values."
   ]
  },
  {
   "cell_type": "code",
   "execution_count": 24,
   "id": "c20b0e84-4748-464a-a881-7d2e1aa98861",
   "metadata": {},
   "outputs": [
    {
     "data": {
      "text/plain": [
       "Text(0.5, 1.0, 'Predicted vs Actual Birth Rate Per Year')"
      ]
     },
     "execution_count": 24,
     "metadata": {},
     "output_type": "execute_result"
    },
    {
     "data": {
      "image/png": "[encoded data removed]",
      "text/plain": [
       "<Figure size 576x432 with 1 Axes>"
      ]
     },
     "metadata": {
      "needs_background": "light"
     },
     "output_type": "display_data"
    }
   ],
   "source": [
    "y_hat_B = reg_B.predict(X4)\n",
    "fig, a = plt.subplots(1,1,figsize=(8,6))\n",
    "a.scatter(y_hat_B, y,  color='black')\n",
    "a.plot(y_hat_B, y_hat_B, color='blue', linewidth=2)\n",
    "\n",
    "a.set_xlabel('Birth Rate Predicted Value')\n",
    "a.set_ylabel('Birth Rate Actual Value')\n",
    "a.set_title('Predicted vs Actual Birth Rate Per Year')"
   ]
  },
  {
   "cell_type": "markdown",
   "id": "a2a4dd2c-0bb8-41a1-99b3-0a8b1f252fe5",
   "metadata": {},
   "source": [
    "**Residual Error Distribution for Model D**\n",
    "\n",
    "The error distribution for model D also has a close to normal distribution and as with all other models, it contains a few outliers as seen in the histogram below."
   ]
  },
  {
   "cell_type": "code",
   "execution_count": 25,
   "id": "fa4bb748-aad9-4fd3-9bfb-f2feff72e39e",
   "metadata": {},
   "outputs": [
    {
     "data": {
      "image/png": "[encoded data removed]",
      "text/plain": [
       "<Figure size 432x288 with 1 Axes>"
      ]
     },
     "metadata": {
      "needs_background": "light"
     },
     "output_type": "display_data"
    }
   ],
   "source": [
    "y_hat_D = reg_B.predict(X4)\n",
    "\n",
    "fig, a1 = plt.subplots(1, 1)\n",
    "residuals = y_hat_D - y\n",
    "a1.hist(residuals, density=True)\n",
    "a1.set_title('Error Distribution')\n",
    "_ = a1.set_xlabel('Error in Prediction')"
   ]
  },
  {
   "cell_type": "markdown",
   "id": "5f11e78f-9a39-4e68-b720-c8f27fb13d51",
   "metadata": {},
   "source": [
    "### **Section 3.3: Using Bootstrap technique to estimate the distribution of the difference in the RMSE parameters and CI intervals**\n",
    "\n",
    "In this section, I have used the bootstrap technique to resample the regression model 500 times, the RMSE parameter was calculated for both models and the difference between the two calculated."
   ]
  },
  {
   "cell_type": "markdown",
   "id": "27bd9075-762a-4e6e-a326-f6a069dcc644",
   "metadata": {},
   "source": [
    "The regression function below returns the RMSE values for both models."
   ]
  },
  {
   "cell_type": "code",
   "execution_count": 26,
   "id": "a6fb8578-1579-4d3e-9a86-3d8aa78b21c8",
   "metadata": {},
   "outputs": [],
   "source": [
    "def doRegression(data) :\n",
    "    y = data.Storks # this is the target variable\n",
    "    X3 = np.column_stack(data.Area).T # Predictor for Model A\n",
    "    X4 = np.column_stack((data.SuitableArea, data.PopulationDensity)) # Predictor for Model B\n",
    "    reg3 = LinearRegression().fit(X3, y)\n",
    "    reg4 = LinearRegression().fit(X4, y)\n",
    "    beta_Area = reg3.coef_[0]\n",
    "    beta_Suit, beta_Pop = reg4.coef_\n",
    "    return [mean_squared_error(y, reg3.predict(X3), squared=False), mean_squared_error(y, reg4.predict(X4), squared=False)] "
   ]
  },
  {
   "cell_type": "markdown",
   "id": "0288a634-ab6b-47e3-81c1-441f290aac42",
   "metadata": {},
   "source": [
    "Here, I have calculated the difference of the RMSE parameter between model C and D:\n",
    "\n",
    "RMSE_Difference = RMSE_C - RMSE_D"
   ]
  },
  {
   "cell_type": "code",
   "execution_count": 27,
   "id": "572dd6d1-2ce5-4a18-b863-5c8181772dc5",
   "metadata": {},
   "outputs": [
    {
     "data": {
      "text/html": [
       "<div>\n",
       "<style scoped>\n",
       "    .dataframe tbody tr th:only-of-type {\n",
       "        vertical-align: middle;\n",
       "    }\n",
       "\n",
       "    .dataframe tbody tr th {\n",
       "        vertical-align: top;\n",
       "    }\n",
       "\n",
       "    .dataframe thead th {\n",
       "        text-align: right;\n",
       "    }\n",
       "</style>\n",
       "<table border=\"1\" class=\"dataframe\">\n",
       "  <thead>\n",
       "    <tr style=\"text-align: right;\">\n",
       "      <th></th>\n",
       "      <th>RMSE_A</th>\n",
       "      <th>RMSE_B</th>\n",
       "      <th>RMSE_Diff</th>\n",
       "    </tr>\n",
       "  </thead>\n",
       "  <tbody>\n",
       "    <tr>\n",
       "      <th>0</th>\n",
       "      <td>6983.183374</td>\n",
       "      <td>6602.251502</td>\n",
       "      <td>380.931872</td>\n",
       "    </tr>\n",
       "    <tr>\n",
       "      <th>1</th>\n",
       "      <td>6853.140878</td>\n",
       "      <td>6749.448906</td>\n",
       "      <td>103.691972</td>\n",
       "    </tr>\n",
       "    <tr>\n",
       "      <th>2</th>\n",
       "      <td>6775.137230</td>\n",
       "      <td>6436.565651</td>\n",
       "      <td>338.571580</td>\n",
       "    </tr>\n",
       "    <tr>\n",
       "      <th>3</th>\n",
       "      <td>4531.164572</td>\n",
       "      <td>3986.574784</td>\n",
       "      <td>544.589789</td>\n",
       "    </tr>\n",
       "    <tr>\n",
       "      <th>4</th>\n",
       "      <td>3433.315854</td>\n",
       "      <td>2914.294792</td>\n",
       "      <td>519.021061</td>\n",
       "    </tr>\n",
       "    <tr>\n",
       "      <th>...</th>\n",
       "      <td>...</td>\n",
       "      <td>...</td>\n",
       "      <td>...</td>\n",
       "    </tr>\n",
       "    <tr>\n",
       "      <th>495</th>\n",
       "      <td>9297.729112</td>\n",
       "      <td>8789.960413</td>\n",
       "      <td>507.768699</td>\n",
       "    </tr>\n",
       "    <tr>\n",
       "      <th>496</th>\n",
       "      <td>4678.346046</td>\n",
       "      <td>4073.923679</td>\n",
       "      <td>604.422368</td>\n",
       "    </tr>\n",
       "    <tr>\n",
       "      <th>497</th>\n",
       "      <td>9531.939489</td>\n",
       "      <td>9082.316157</td>\n",
       "      <td>449.623332</td>\n",
       "    </tr>\n",
       "    <tr>\n",
       "      <th>498</th>\n",
       "      <td>2192.630040</td>\n",
       "      <td>1784.555638</td>\n",
       "      <td>408.074402</td>\n",
       "    </tr>\n",
       "    <tr>\n",
       "      <th>499</th>\n",
       "      <td>5758.342271</td>\n",
       "      <td>5516.504221</td>\n",
       "      <td>241.838050</td>\n",
       "    </tr>\n",
       "  </tbody>\n",
       "</table>\n",
       "<p>500 rows × 3 columns</p>\n",
       "</div>"
      ],
      "text/plain": [
       "          RMSE_A       RMSE_B   RMSE_Diff\n",
       "0    6983.183374  6602.251502  380.931872\n",
       "1    6853.140878  6749.448906  103.691972\n",
       "2    6775.137230  6436.565651  338.571580\n",
       "3    4531.164572  3986.574784  544.589789\n",
       "4    3433.315854  2914.294792  519.021061\n",
       "..           ...          ...         ...\n",
       "495  9297.729112  8789.960413  507.768699\n",
       "496  4678.346046  4073.923679  604.422368\n",
       "497  9531.939489  9082.316157  449.623332\n",
       "498  2192.630040  1784.555638  408.074402\n",
       "499  5758.342271  5516.504221  241.838050\n",
       "\n",
       "[500 rows x 3 columns]"
      ]
     },
     "execution_count": 27,
     "metadata": {},
     "output_type": "execute_result"
    }
   ],
   "source": [
    "bstrap = bootstrapC(df, ['RMSE_A', 'RMSE_B'], 500, doRegression) \n",
    "bstrap['RMSE_Diff'] = bstrap['RMSE_A']-bstrap['RMSE_B']\n",
    "bstrap"
   ]
  },
  {
   "cell_type": "markdown",
   "id": "dc73336e-1103-492e-b00b-2d3df63c2b89",
   "metadata": {},
   "source": [
    "**RMSE Difference Distribution**\n",
    "\n",
    "Below, we can observe the distribution for the difference of the RMSE parameter of both models. We can observe that the difference distribution is positively skewed and all values are positive meaning that model C has a RMSE distribution of higher values compared to the model D's RMSE values distribution. This implies that model C has got a higher root mean squared error values than model D, which implies that model D may be a better model to predict the number of storks."
   ]
  },
  {
   "cell_type": "code",
   "execution_count": 28,
   "id": "bc05a9e8-2545-4fa2-a058-bf9edd144814",
   "metadata": {},
   "outputs": [
    {
     "data": {
      "image/png": "[encoded data removed]",
      "text/plain": [
       "<Figure size 576x504 with 1 Axes>"
      ]
     },
     "metadata": {
      "needs_background": "light"
     },
     "output_type": "display_data"
    }
   ],
   "source": [
    "_ = bstrap.hist('RMSE_Diff',figsize=(8,7))"
   ]
  },
  {
   "cell_type": "markdown",
   "id": "51ea4eb2-5acc-4bd3-864c-a6c9543aee5c",
   "metadata": {},
   "source": [
    "**Confidence Interval for the difference in the RMSE values**\n",
    "\n",
    "The 90% confidence interval for the difference in the RMSE values of the two models is between 108.17 to 632.44. This implies that there is a 90% confidence that the difference between the RMSE values will be within this interval. As the interval only contains positive numbers, we can conclude that model C would have a higher RMSE value than the model D's RMSE, which implies that model D would be a better model to predict the number of storks. Therefore, we can be confident that the model where we have the suitable area and population density as the predictor will be able to predict the number of storks better than the model where the predictor is the area."
   ]
  },
  {
   "cell_type": "code",
   "execution_count": 29,
   "id": "f36d2c30-1705-417a-892f-814edb29aa66",
   "metadata": {},
   "outputs": [
    {
     "name": "stdout",
     "output_type": "stream",
     "text": [
      "The difference of the RMSE coefficient of model A and model B has 90% CI from 111.65 to 690.29\n"
     ]
    }
   ],
   "source": [
    "RMSE_A, RMSE_B = doRegression(df)\n",
    "\n",
    "print(\"The difference of the RMSE coefficient of model A and model B has 90%% CI from %3.2f to %3.2f\" % \n",
    "      (bstrap.RMSE_Diff.quantile(0.05), bstrap.RMSE_Diff.quantile(0.95)))"
   ]
  }
 ],
 "metadata": {
  "kernelspec": {
   "display_name": "Python 3",
   "language": "python",
   "name": "python3"
  },
  "language_info": {
   "codemirror_mode": {
    "name": "ipython",
    "version": 3
   },
   "file_extension": ".py",
   "mimetype": "text/x-python",
   "name": "python",
   "nbconvert_exporter": "python",
   "pygments_lexer": "ipython3",
   "version": "3.8.8"
  }
 },
 "nbformat": 4,
 "nbformat_minor": 5
}
